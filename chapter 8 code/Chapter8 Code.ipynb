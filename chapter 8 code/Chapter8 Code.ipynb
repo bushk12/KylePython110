{
 "cells": [
  {
   "cell_type": "markdown",
   "id": "d5cd4122",
   "metadata": {},
   "source": [
    "NOTE: This is strictly for showing my code working, I have a text file in my GitHub called chapter 8 programs detailed with thought process and explained code"
   ]
  },
  {
   "cell_type": "markdown",
   "id": "b7813aee",
   "metadata": {},
   "source": [
    "# Algorithm Workbench 6"
   ]
  },
  {
   "cell_type": "code",
   "execution_count": 1,
   "id": "574dbf38",
   "metadata": {},
   "outputs": [
    {
     "name": "stdout",
     "output_type": "stream",
     "text": [
      "Algorithm Workbench 6\n",
      "\n",
      "Create a string using lowercase t's: this is great\n",
      "This is greaT\n"
     ]
    }
   ],
   "source": [
    "def main():\n",
    "    # printing program title\n",
    "    print(\"Algorithm Workbench 6\\n\")\n",
    "\n",
    "    # asking the user to type a phrase using lowercase t's\n",
    "    string = input(\"Create a string using lowercase t's: \")\n",
    "\n",
    "    # replacing the lowercase \"t\" with uppercase \"t\"\n",
    "    replaced = string.replace(\"t\", \"T\")\n",
    "\n",
    "    # printing the result\n",
    "    print(replaced)\n",
    "\n",
    "\n",
    "# calling main function\n",
    "if __name__ == '__main__':\n",
    "    main()"
   ]
  },
  {
   "cell_type": "markdown",
   "id": "69ec12fd",
   "metadata": {},
   "source": [
    "# Algorithm Workbench 10"
   ]
  },
  {
   "cell_type": "code",
   "execution_count": 3,
   "id": "d5fe2fab",
   "metadata": {},
   "outputs": [
    {
     "name": "stdout",
     "output_type": "stream",
     "text": [
      "Algorithm Workbench 10\n",
      "\n",
      "['cookies', 'milk', 'fudge', 'cake', 'ice cream']\n"
     ]
    }
   ],
   "source": [
    "def main():\n",
    "    print(\"Algorithm Workbench 10\\n\")\n",
    "    # creation of mystring\n",
    "    mystring = 'cookies>milk>fudge>cake>ice cream'\n",
    "\n",
    "    # creating a list out of the string while removing the >\n",
    "    lst = mystring.split(\">\")\n",
    "\n",
    "    # printing lst\n",
    "    print(lst)\n",
    "\n",
    "\n",
    "# calling the main function\n",
    "if __name__ == '__main__':\n",
    "    main()"
   ]
  },
  {
   "cell_type": "markdown",
   "id": "82c9e19f",
   "metadata": {},
   "source": [
    "# Programming Exercise 3"
   ]
  },
  {
   "cell_type": "code",
   "execution_count": 4,
   "id": "08108ebd",
   "metadata": {},
   "outputs": [
    {
     "name": "stdout",
     "output_type": "stream",
     "text": [
      "Programming Exercise 3\n",
      "\n",
      "Please enter the date in mm/dd/yyyy format!\n",
      "\n",
      "Enter Date: 07/20/2000\n",
      "\n",
      "Your date reformatted is: \n",
      "July 20, 2000\n"
     ]
    }
   ],
   "source": [
    "def main():\n",
    "    print(\"Programming Exercise 3\\n\")\n",
    "    # heading and information\n",
    "    print('Please enter the date in mm/dd/yyyy format!\\n')\n",
    "    # asking the user for the input\n",
    "    userdate = input('Enter Date: ')\n",
    "    # creating a list of months to shorten up the code.\n",
    "    months = ['January', 'February', 'March', 'April', 'May', 'June', 'July', 'August', 'September', 'October',\n",
    "              'November', 'December']\n",
    "\n",
    "    # formatting the date, getting rid of all the \"/\" in the entire string\n",
    "    lst = userdate.split(\"/\")\n",
    "    # combining the months list I created with the userdate inputted string.\n",
    "    month_name = months[int(lst[0]) - 1]\n",
    "    # giving the day an int value to get rid of the \"0\" if it is 08\n",
    "    day = int(lst[1])\n",
    "    # assigning the year to the last value\n",
    "    year = int(lst[2])\n",
    "\n",
    "    print()\n",
    "    # combining it all to print out a result!\n",
    "    print(f'Your date reformatted is: \\n' + str(month_name) + \" \" + str(day) + ', ' + str(year))\n",
    "\n",
    "\n",
    "if __name__ == '__main__':\n",
    "    main()\n"
   ]
  },
  {
   "cell_type": "markdown",
   "id": "ee4fb919",
   "metadata": {},
   "source": [
    "# Programming Exercise 10"
   ]
  },
  {
   "cell_type": "code",
   "execution_count": 6,
   "id": "dc62012e",
   "metadata": {},
   "outputs": [
    {
     "name": "stdout",
     "output_type": "stream",
     "text": [
      "Programming Exercise 10\n",
      "\n",
      "Please enter a sentence: programming is cool\n",
      "The most common letter was: \n",
      "('o', 3)\n",
      "\n",
      "The top three most common letters were: \n",
      "[('o', 3), ('r', 2), ('g', 2)]\n"
     ]
    }
   ],
   "source": [
    "def main():\n",
    "    print(\"Programming Exercise 10\\n\")\n",
    "    # creation of the user string\n",
    "    string = input(\"Please enter a sentence: \")\n",
    "\n",
    "    # in order for the count variable to work, it needs to all be lowercase or uppercase.....\n",
    "    lowercase = string.lower()\n",
    "\n",
    "    # looking for most frequent letter by importing the counter class in collections (like I did last week)\n",
    "    import collections\n",
    "\n",
    "    # using the .Counter and .most_common to find the most common letter\n",
    "    common = (collections.Counter(lowercase).most_common(1)[0])\n",
    "    print(f\"The most common letter was: \\n{common}\")\n",
    "    print()\n",
    "    # using the .Counter and .most_common to find the three most common letters\n",
    "    count = (collections.Counter(lowercase).most_common(3))\n",
    "    print(f'The top three most common letters were: \\n{count}')\n",
    "\n",
    "\n",
    "if __name__ == '__main__':\n",
    "    main()"
   ]
  },
  {
   "cell_type": "markdown",
   "id": "a9274d5e",
   "metadata": {},
   "source": [
    "# Programming Exercise 11"
   ]
  },
  {
   "cell_type": "code",
   "execution_count": 8,
   "id": "78cbfd7e",
   "metadata": {},
   "outputs": [
    {
     "name": "stdout",
     "output_type": "stream",
     "text": [
      "Programming Exercise 11\n",
      "\n",
      "Enter a sentence below with no spaces, but every word starts with a capital letter.\n",
      "ThisProgramWorks\n",
      "This is the fixed sentence: \n",
      "\n",
      "This program works\n"
     ]
    }
   ],
   "source": [
    "def main():\n",
    "    print(\"Programming Exercise 11\\n\")\n",
    "    # user input\n",
    "    print(\"Enter a sentence below with no spaces, but every word starts with a capital letter.\")\n",
    "    # asking the user for a sentence\n",
    "    user = input(\"\")\n",
    "    # assigning fixed to the \"\" variable for the \"for loop\"\n",
    "    fixed = \"\"\n",
    "    # assigning a, a value for the loop\n",
    "    a = 0\n",
    "\n",
    "    # for loop to add spaces and change the rest of the sentence to lower case\n",
    "    for ch in user:\n",
    "        if ch.isupper() and a > 0:\n",
    "            # adding spaces before the uppercase letters\n",
    "            fixed += \" \"\n",
    "            # changing the rest of the uppercase letters to lowercase (except the first word)\n",
    "            fixed += ch.lower()\n",
    "        else:\n",
    "            fixed += ch\n",
    "        a += 1\n",
    "\n",
    "    # printing the fixed sentence\n",
    "    print(\"This is the fixed sentence: \\n\")\n",
    "    print(fixed)\n",
    "\n",
    "\n",
    "if __name__ == '__main__':\n",
    "    main()"
   ]
  },
  {
   "cell_type": "markdown",
   "id": "3debf99d",
   "metadata": {},
   "source": [
    "# Programming Exercise 1"
   ]
  },
  {
   "cell_type": "code",
   "execution_count": 9,
   "id": "fafa087c",
   "metadata": {},
   "outputs": [
    {
     "name": "stdout",
     "output_type": "stream",
     "text": [
      "Programming Exercise 1\n",
      "\n",
      "Please enter your full name: Kyle David Bush\n",
      "K.D.B\n"
     ]
    }
   ],
   "source": [
    "def main():\n",
    "    print(\"Programming Exercise 1\\n\")\n",
    "    # asking the user to input their full namne\n",
    "    name = input(\"Please enter your full name: \")\n",
    "\n",
    "    # creating a list from the string\n",
    "    initials = name.split()\n",
    "\n",
    "    # taking the initials list list this => [element][first letter from element] and printing\n",
    "    print(initials[0][0] + '.' + initials[1][0] + '.' + initials[2][0])\n",
    "\n",
    "\n",
    "# calling main function to run the program\n",
    "if __name__ == '__main__':\n",
    "    main()"
   ]
  },
  {
   "cell_type": "code",
   "execution_count": null,
   "id": "0e988141",
   "metadata": {},
   "outputs": [],
   "source": []
  }
 ],
 "metadata": {
  "kernelspec": {
   "display_name": "Python 3 (ipykernel)",
   "language": "python",
   "name": "python3"
  },
  "language_info": {
   "codemirror_mode": {
    "name": "ipython",
    "version": 3
   },
   "file_extension": ".py",
   "mimetype": "text/x-python",
   "name": "python",
   "nbconvert_exporter": "python",
   "pygments_lexer": "ipython3",
   "version": "3.10.9"
  }
 },
 "nbformat": 4,
 "nbformat_minor": 5
}
