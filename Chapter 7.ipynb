{
 "cells": [
  {
   "cell_type": "markdown",
   "id": "0e434e9e",
   "metadata": {},
   "source": [
    "#Chapter 7 Exercises"
   ]
  },
  {
   "cell_type": "markdown",
   "id": "cc745d0e",
   "metadata": {},
   "source": [
    "Algorithm Workbench #1                            "
   ]
  },
  {
   "cell_type": "markdown",
   "id": "73f61df5",
   "metadata": {},
   "source": [
    "For this workbench, I found it really simple and fun. I wanted to turn a list into a string and a string into a list in the same program."
   ]
  },
  {
   "cell_type": "code",
   "execution_count": 2,
   "id": "e116b74d",
   "metadata": {},
   "outputs": [
    {
     "name": "stdout",
     "output_type": "stream",
     "text": [
      "Here are some of the greatest minds ever: Einstein, Newton, Copernicus, and Kepler.\n",
      "\n",
      "['Einstein,', 'Newton,', 'Copernicus,', 'Kepler']\n"
     ]
    }
   ],
   "source": [
    "# main function\n",
    "# I will be turning a list into a string, and a string into a list!\n",
    "def main():\n",
    "    # turning a list into a string\n",
    "    names = ['Einstein', 'Newton', 'Copernicus', 'Kepler']\n",
    "\n",
    "    # here I am creating a string with the list.\n",
    "    string1 = 'Here are some of the greatest minds ever: {}, {}, {}, and {}.'.format(*names)\n",
    "    \n",
    "    print(string1)\n",
    "    print('')\n",
    "    \n",
    "    # creating a string\n",
    "    string2 = 'Einstein, Newton, Copernicus, Kepler'\n",
    "\n",
    "    # using the convert function to print out the string\n",
    "    print(convert(string2))\n",
    "\n",
    "\n",
    "# creating a function to convert a string of my choice into a function\n",
    "def convert(string):\n",
    "\n",
    "    # splitting the string into a list\n",
    "    li = list(string.split(\" \"))\n",
    "    return li\n",
    "\n",
    "if __name__ == '__main__':\n",
    "\n",
    "    main()"
   ]
  },
  {
   "cell_type": "markdown",
   "id": "b6cc62c7",
   "metadata": {},
   "source": [
    "Algorithm Workbench #3"
   ]
  },
  {
   "cell_type": "markdown",
   "id": "532e1cbb",
   "metadata": {},
   "source": [
    "This one was really simple, I just needed to append a list to copy it."
   ]
  },
  {
   "cell_type": "code",
   "execution_count": 3,
   "id": "4c6b9a9c",
   "metadata": {},
   "outputs": [
    {
     "name": "stdout",
     "output_type": "stream",
     "text": [
      "[1, 2, 3]\n",
      "[1, 2, 3]\n"
     ]
    }
   ],
   "source": [
    "def main():\n",
    "\n",
    "    # numbers1 is the main list that will be copied to numbers2\n",
    "    numbers1 = [1, 2, 3]\n",
    "\n",
    "    # numbers 2 will get a copy of numbers1\n",
    "    numbers2 = []\n",
    "\n",
    "    # appending the elements from numbers1 into numbers2\n",
    "    for item in numbers1:\n",
    "        numbers2.append(item)\n",
    "\n",
    "    # printing out lists to show the code copying\n",
    "    print(numbers1)\n",
    "    print(numbers2)\n",
    "\n",
    "\n",
    "if __name__ == '__main__':\n",
    "    main()"
   ]
  },
  {
   "cell_type": "markdown",
   "id": "aafe823d",
   "metadata": {},
   "source": [
    "Programming Exercise 1: Total Sales"
   ]
  },
  {
   "cell_type": "markdown",
   "id": "20f90a5b",
   "metadata": {},
   "source": [
    "After trying a couple different methods, I landed ultimately on this one. It was quick and straight to the point. I found that just creating a variable for each day made it a lot easier for me to get used to lists and loops."
   ]
  },
  {
   "cell_type": "code",
   "execution_count": 4,
   "id": "daf52225",
   "metadata": {},
   "outputs": [
    {
     "name": "stdout",
     "output_type": "stream",
     "text": [
      "Enter Sales for Monday: 200\n",
      "Enter Sales for Tuesday: 199\n",
      "Enter Sales for Wednesday: 88\n",
      "Enter Sales for Thursday: 77\n",
      "Enter Sales for Friday: 33\n",
      "Enter Sales for Saturday: 222\n",
      "Enter Sales for Sunday: 111\n",
      "The total sales for the week is $930.0.\n"
     ]
    }
   ],
   "source": [
    "# main function to store total sales and print them out\n",
    "def main():\n",
    "    # make a list of all the sales inputted by the user\n",
    "    daily_sale = []\n",
    "    total = 0\n",
    "    # variables for creating the list\n",
    "    mon = float(input(f'Enter Sales for Monday: '))\n",
    "    tue = float(input(f'Enter Sales for Tuesday: '))\n",
    "    wed = float(input(f'Enter Sales for Wednesday: '))\n",
    "    thu = float(input(f'Enter Sales for Thursday: '))\n",
    "    fri = float(input(f'Enter Sales for Friday: '))\n",
    "    sat = float(input(f'Enter Sales for Saturday: '))\n",
    "    sun = float(input(f'Enter Sales for Sunday: '))\n",
    "\n",
    "    # append the item to the list\n",
    "    daily_sale.extend([mon, tue, wed, thu, fri, sat, sun])\n",
    "\n",
    "\n",
    "    # adding the values together\n",
    "    for x in daily_sale:\n",
    "        total = sum(daily_sale)\n",
    "\n",
    "    print(f'The total sales for the week is ${total}.')\n",
    "if __name__ == '__main__':\n",
    "    main()\n"
   ]
  },
  {
   "cell_type": "markdown",
   "id": "25aa0f19",
   "metadata": {},
   "source": [
    "Programming Exercise 14: Expense Pie Chart"
   ]
  },
  {
   "cell_type": "markdown",
   "id": "ee7e9449",
   "metadata": {},
   "source": [
    "With the matplotlib, it made it extremely easy to create a pie chart. Just a few lines of code and it does the rest of the work for you on jupyter notebook!"
   ]
  },
  {
   "cell_type": "code",
   "execution_count": 5,
   "id": "b9025536",
   "metadata": {},
   "outputs": [
    {
     "data": {
      "image/png": "[encoded data removed]",
      "text/plain": [
       "<Figure size 640x480 with 1 Axes>"
      ]
     },
     "metadata": {},
     "output_type": "display_data"
    }
   ],
   "source": [
    "import matplotlib.pyplot as plt\n",
    "\n",
    "\n",
    "def main():\n",
    "    \n",
    "    # creating lists for both expenses and prices\n",
    "    expense = ['Rent', 'Gas', 'Food', 'Clothing', 'Car Payment', 'Misc']\n",
    "    price = [990, 100, 250, 200, 145, 80]\n",
    "\n",
    "    # using the plotlib plt.pie function to combine the lists and adding expense to labels\n",
    "    plt.pie(price, labels=expense)\n",
    "    \n",
    "    # adding a title\n",
    "    plt.title('Monthly Expenses')\n",
    "    \n",
    "    # showing the pie chart\n",
    "    plt.show()\n",
    "\n",
    "\n",
    "if __name__ == '__main__':\n",
    "    main()\n"
   ]
  },
  {
   "cell_type": "markdown",
   "id": "000c0211",
   "metadata": {},
   "source": [
    "Programming Exercise 3: Rainfall Statistics"
   ]
  },
  {
   "cell_type": "markdown",
   "id": "175a4166",
   "metadata": {},
   "source": [
    "On this particular program, I tried multiple different things. You can reference my github to see the different thought process I had for this program. I had to really dig deep and think of other programming languages I have learned. While I did create a variable for each individaul input, I also created a dictionary to combine both RAINFALL and MONTHS. The only issue I was having, and have been having for the last few days was the very last section of code. You can see in the results that it was showing up as a zipped list still, even after reversing the dictionary. I did get some help from geeksforgeeks.com on manipulating dictionaries for this. (I have a readme.txt for the link I used)"
   ]
  },
  {
   "cell_type": "code",
   "execution_count": 7,
   "id": "9506b3fa",
   "metadata": {},
   "outputs": [
    {
     "name": "stdout",
     "output_type": "stream",
     "text": [
      "Rainfall Calculator\n",
      "\n",
      "January: 12\n",
      "February: 11\n",
      "March: 10\n",
      "April: 9\n",
      "May: 8\n",
      "June: 7\n",
      "July: 6\n",
      "August: 5\n",
      "September: 4\n",
      "October: 3\n",
      "November: 2\n",
      "December: 1\n",
      "\n",
      "\n",
      "The TOTAL amount of rainfall for the year is: 78.0 inches\n",
      "\n",
      "The AVERAGE amount of rainfall each month for the year is: 6.5 inches/month\n",
      "\n",
      "Rainfall Per Month: \n",
      "{'January': 12.0, 'February': 11.0, 'March': 10.0, 'April': 9.0, 'May': 8.0, 'June': 7.0, 'July': 6.0, 'August': 5.0, 'September': 4.0, 'October': 3.0, 'November': 2.0, 'December': 1.0} \n",
      "\n",
      "Top Three Months For Rainfall: \n",
      "Month: Amount\n",
      "January  : 12.0  \n",
      "February  : 11.0  \n",
      "March  : 10.0  \n",
      "\n",
      "Lowest Three Months For Rainfall: \n",
      "Month: Amount\n",
      "('December', 1.0)\n",
      "('November', 2.0)\n",
      "('October', 3.0)\n",
      " \n"
     ]
    }
   ],
   "source": [
    "def main():\n",
    "\n",
    "    print(\"Rainfall Calculator\")\n",
    "    print('')\n",
    "\n",
    "    total = 0\n",
    "\n",
    "    # defining rainfall for month\n",
    "    rainfall = []\n",
    "\n",
    "    # defining the months\n",
    "\n",
    "    jan = float(input(f'January: '))\n",
    "    feb = float(input(f'February: '))\n",
    "    mar = float(input(f'March: '))\n",
    "    apr = float(input(f'April: '))\n",
    "    may = float(input(f'May: '))\n",
    "    jun = float(input(f'June: '))\n",
    "    jul = float(input(f'July: '))\n",
    "    aug = float(input(f'August: '))\n",
    "    sep = float(input(f'September: '))\n",
    "    octo = float(input(f'October: '))\n",
    "    nov = float(input(f'November: '))\n",
    "    dec = float(input(f'December: '))\n",
    "\n",
    "    # appending the months to the list\n",
    "    rainfall.extend([jan, feb, mar, apr, may, jun, jul, aug, sep, octo, nov, dec])\n",
    "    print('')\n",
    "\n",
    "    # declaring the months\n",
    "    months = ['January', 'February', 'March', 'April', 'May', 'June', 'July', 'August', 'September', 'October', 'November', 'December']\n",
    "\n",
    "    # taking the total\n",
    "    for value in rainfall:\n",
    "        total += value\n",
    "\n",
    "    print('')\n",
    "\n",
    "    # printing out the sum of the list\n",
    "    print(f'The TOTAL amount of rainfall for the year is: {total} inches')\n",
    "\n",
    "    # creating average\n",
    "    average = total / 12\n",
    "\n",
    "    print('')\n",
    "    # printing out the average\n",
    "    print(f'The AVERAGE amount of rainfall each month for the year is: {average} inches/month')\n",
    "\n",
    "    print('')\n",
    "\n",
    "    # creating a dictionary to display top results\n",
    "    from collections import Counter\n",
    "\n",
    "    # zip the lists together, so they're paired properly before finding the top three\n",
    "    my_dict = dict(zip(months, rainfall))\n",
    "    k = Counter(my_dict)\n",
    "\n",
    "    # this will take the three highest numbers in the dictionary\n",
    "    high = k.most_common(3)\n",
    "    print(\"Rainfall Per Month: \")\n",
    "\n",
    "    # showing the dictionary ordered\n",
    "    print(my_dict, \"\\n\")\n",
    "\n",
    "    print(\"Top Three Months For Rainfall: \")\n",
    "    print(\"Month: Amount\")\n",
    "\n",
    "    # for loop to print out the correct numbers from high on line 59\n",
    "    for i in high:\n",
    "        print(i[0], \" :\", i[1], \" \")\n",
    "\n",
    "    print('')\n",
    "    print(\"Lowest Three Months For Rainfall: \")\n",
    "    print(\"Month: Amount\")\n",
    "\n",
    "    # Here I am reverse sorting the dictionary I created above. Issues with formatting the output but it works!\n",
    "    sorted_dict = sorted(my_dict.items(), key=lambda kv: kv[1])\n",
    "\n",
    "    # taking the reverse sorted dictionary and doing the same thing as earlier\n",
    "    h = Counter(sorted_dict)\n",
    "    low = h.most_common(3)\n",
    "\n",
    "    # same for loop as line 69\n",
    "    for k in low:\n",
    "        print(k[0])\n",
    "\n",
    "    print(' ')\n",
    "if __name__ == '__main__':\n",
    "    main()"
   ]
  },
  {
   "cell_type": "markdown",
   "id": "fdbbe480",
   "metadata": {},
   "source": [
    "Programming Exercise 13: Magic 8 Ball"
   ]
  },
  {
   "cell_type": "markdown",
   "id": "6a834bec",
   "metadata": {},
   "source": [
    "I did use stackoverflow for this as I was curious on how different this would be from PhP, as I am most familiar with that programming language with importing files. I felt that after reading and playing with the stack overflow code, it really began to make sense for me. Also the 8-ball said I will win the lotto so hopefully no student loan payments in the future for me."
   ]
  },
  {
   "cell_type": "code",
   "execution_count": 9,
   "id": "0e41ec62",
   "metadata": {},
   "outputs": [
    {
     "name": "stdout",
     "output_type": "stream",
     "text": [
      "Ask the magic 8-ball a question (or press enter to quit).Will I win the lotto?\n",
      "I am thinking....\n",
      ". . . . . . . \n",
      "\n",
      "Without a doubt, yes. .\n",
      "Ask the magic 8-ball a question (or press enter to quit): \n"
     ]
    }
   ],
   "source": [
    "# Creating a magic 8-ball program where the user inserts a question and the program responds with a random response\n",
    "import random\n",
    "import time\n",
    "def main():\n",
    "    # asking the question, allowing the user to immediately quit if they want\n",
    "    question = input(\"Ask the magic 8-ball a question (or press enter to quit).\")\n",
    "    while question:\n",
    "        if question == \"quit\":\n",
    "            break\n",
    "        # adding a random time for suspense\n",
    "        print(\"I am thinking....\")\n",
    "        for i in range(random.randrange(1, 12)):\n",
    "            print(\". \", end='')\n",
    "            time.sleep(1)\n",
    "        print(\"\\n\")\n",
    "        # grabbing one of the answers from the text file randomly\n",
    "        print((random.choice(open(\"8_ball_responses.txt\",\"r\").read().splitlines())) + \" .\")\n",
    "        # going back to the initial question to see if the user wants to ask again, or quit\n",
    "        question = input(\"Ask the magic 8-ball a question (or press enter to quit): \")\n",
    "\n",
    "if __name__ == '__main__':\n",
    "    main()"
   ]
  }
 ],
 "metadata": {
  "kernelspec": {
   "display_name": "Python 3 (ipykernel)",
   "language": "python",
   "name": "python3"
  },
  "language_info": {
   "codemirror_mode": {
    "name": "ipython",
    "version": 3
   },
   "file_extension": ".py",
   "mimetype": "text/x-python",
   "name": "python",
   "nbconvert_exporter": "python",
   "pygments_lexer": "ipython3",
   "version": "3.10.9"
  }
 },
 "nbformat": 4,
 "nbformat_minor": 5
}
